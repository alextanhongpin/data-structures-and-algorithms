{
 "cells": [
  {
   "cell_type": "code",
   "execution_count": 15,
   "metadata": {},
   "outputs": [
    {
     "name": "stdout",
     "output_type": "stream",
     "text": [
      "True\n",
      "True\n",
      "True\n",
      "True\n"
     ]
    }
   ],
   "source": [
    "def is_anagram(str1, str2):\n",
    "    return sorted(str1) == sorted(str2)\n",
    "\n",
    "print(is_anagram('listen', 'silent'))\n",
    "print(is_anagram('arm', 'ram'))\n",
    "print(is_anagram('begin', 'being'))\n",
    "print(is_anagram('below', 'elbow'))"
   ]
  },
  {
   "cell_type": "code",
   "execution_count": 17,
   "metadata": {},
   "outputs": [
    {
     "name": "stdout",
     "output_type": "stream",
     "text": [
      "True\n",
      "True\n",
      "True\n",
      "True\n"
     ]
    }
   ],
   "source": [
    "def is_anagram(str1, str2):\n",
    "    if len(str1) != len(str2): return False\n",
    "    charset = [0] * 256\n",
    "    num_completed = 0\n",
    "    num_unique = 0\n",
    "    for s in str1:\n",
    "        if charset[ord(s)] == 0:\n",
    "            num_unique += 1\n",
    "        charset[ord(s)] += 1\n",
    "    \n",
    "    for i, s in enumerate(str2):\n",
    "        if charset[ord(s)] == 0: return false\n",
    "        charset[ord(s)] -= 1\n",
    "        if charset[ord(s)] == 0:\n",
    "            num_completed += 1\n",
    "        \n",
    "        if num_completed == num_unique:\n",
    "            return i == len(str2) - 1\n",
    "    return False\n",
    "\n",
    "print(is_anagram('listen', 'silent'))\n",
    "print(is_anagram('arm', 'ram'))\n",
    "print(is_anagram('begin', 'being'))\n",
    "print(is_anagram('below', 'elbow'))"
   ]
  },
  {
   "cell_type": "code",
   "execution_count": 42,
   "metadata": {},
   "outputs": [
    {
     "data": {
      "text/plain": [
       "(268435455, 536870911)"
      ]
     },
     "execution_count": 42,
     "metadata": {},
     "output_type": "execute_result"
    }
   ],
   "source": [
    "0xFFFFFFF, 0xFFFFFFFF//8"
   ]
  },
  {
   "cell_type": "code",
   "execution_count": 33,
   "metadata": {},
   "outputs": [
    {
     "data": {
      "text/plain": [
       "(268435456, 2147483648)"
      ]
     },
     "execution_count": 33,
     "metadata": {},
     "output_type": "execute_result"
    }
   ],
   "source": [
    "pow(16, 7), pow(2, 31)"
   ]
  },
  {
   "cell_type": "code",
   "execution_count": 39,
   "metadata": {},
   "outputs": [
    {
     "data": {
      "text/plain": [
       "256"
      ]
     },
     "execution_count": 39,
     "metadata": {},
     "output_type": "execute_result"
    }
   ],
   "source": [
    "1 << 8"
   ]
  }
 ],
 "metadata": {
  "kernelspec": {
   "display_name": "Python 3",
   "language": "python",
   "name": "python3"
  },
  "language_info": {
   "codemirror_mode": {
    "name": "ipython",
    "version": 3
   },
   "file_extension": ".py",
   "mimetype": "text/x-python",
   "name": "python",
   "nbconvert_exporter": "python",
   "pygments_lexer": "ipython3",
   "version": "3.7.3"
  }
 },
 "nbformat": 4,
 "nbformat_minor": 2
}
