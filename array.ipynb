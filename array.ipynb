{
 "cells": [
  {
   "cell_type": "markdown",
   "metadata": {},
   "source": [
    "## Sum of two arrays"
   ]
  },
  {
   "cell_type": "code",
   "execution_count": 1,
   "metadata": {},
   "outputs": [],
   "source": [
    "arr = [1,2,3,4,5]\n",
    "weight = 9"
   ]
  },
  {
   "cell_type": "code",
   "execution_count": 10,
   "metadata": {},
   "outputs": [
    {
     "data": {
      "text/plain": [
       "(4, 5)"
      ]
     },
     "execution_count": 10,
     "metadata": {},
     "output_type": "execute_result"
    }
   ],
   "source": [
    "# Time complexity: O(n^2)\n",
    "# Space complexity: O(1)\n",
    "def find_sum(arr, weight):\n",
    "    for pos, i in enumerate(arr):\n",
    "        for j in arr[i:]:\n",
    "            if i + j == weight:\n",
    "                return i, j\n",
    "    return -1, -1\n",
    "\n",
    "find_sum(arr, weight)"
   ]
  },
  {
   "cell_type": "code",
   "execution_count": 21,
   "metadata": {},
   "outputs": [
    {
     "data": {
      "text/plain": [
       "(5, 4)"
      ]
     },
     "execution_count": 21,
     "metadata": {},
     "output_type": "execute_result"
    }
   ],
   "source": [
    "# Time complexity: O(n)\n",
    "# Space complexity: O(n)\n",
    "def find_sum(arr, weight):\n",
    "    hashmap = {}\n",
    "    for i in arr:\n",
    "        if weight-i in hashmap:\n",
    "            return i, weight-i\n",
    "        hashmap[i] = True\n",
    "    return -1, -1\n",
    "\n",
    "find_sum(arr, weight)"
   ]
  },
  {
   "cell_type": "code",
   "execution_count": 30,
   "metadata": {},
   "outputs": [
    {
     "data": {
      "text/plain": [
       "(4, 5)"
      ]
     },
     "execution_count": 30,
     "metadata": {},
     "output_type": "execute_result"
    }
   ],
   "source": [
    "def find_sum(arr, weight):\n",
    "    i, j = 0, len(arr) - 1\n",
    "    while i < len(arr) and j > -1:\n",
    "        if arr[i] + arr[j] > weight:\n",
    "            j -= 1\n",
    "        elif arr[i] + arr[j] < weight:\n",
    "            i += 1\n",
    "        else:\n",
    "            return arr[i], arr[j]\n",
    "find_sum(arr, weight)"
   ]
  },
  {
   "cell_type": "code",
   "execution_count": 31,
   "metadata": {},
   "outputs": [],
   "source": [
    "## Find common elements in k-sorted arrays"
   ]
  },
  {
   "cell_type": "code",
   "execution_count": 32,
   "metadata": {},
   "outputs": [],
   "source": [
    "arr1 = [1, 5, 5, 10]\n",
    "arr2 = [3, 4, 5, 5, 10]\n",
    "arr3 = [5, 5, 10, 20]\n",
    "# Output: [5, 10]"
   ]
  },
  {
   "cell_type": "code",
   "execution_count": 37,
   "metadata": {},
   "outputs": [
    {
     "data": {
      "text/plain": [
       "[5, 10]"
      ]
     },
     "execution_count": 37,
     "metadata": {},
     "output_type": "execute_result"
    }
   ],
   "source": [
    "karray = [arr1, arr2, arr3]\n",
    "def common_elements(karray):\n",
    "    result = {}\n",
    "    for arr in karray:\n",
    "        last = None\n",
    "        for item in arr:\n",
    "            if item != last:\n",
    "                if item in result:\n",
    "                    result[item] += 1\n",
    "                else:\n",
    "                    result[item] = 1\n",
    "            last = item\n",
    "    common = []\n",
    "    for item in result:\n",
    "        if result[item] == len(karray):\n",
    "            common.append(item)\n",
    "    return common\n",
    "\n",
    "common_elements(karray)"
   ]
  }
 ],
 "metadata": {
  "kernelspec": {
   "display_name": "Python 3",
   "language": "python",
   "name": "python3"
  },
  "language_info": {
   "codemirror_mode": {
    "name": "ipython",
    "version": 3
   },
   "file_extension": ".py",
   "mimetype": "text/x-python",
   "name": "python",
   "nbconvert_exporter": "python",
   "pygments_lexer": "ipython3",
   "version": "3.7.4"
  }
 },
 "nbformat": 4,
 "nbformat_minor": 2
}
