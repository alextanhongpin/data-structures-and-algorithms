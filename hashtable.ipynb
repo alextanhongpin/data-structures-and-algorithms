{
 "cells": [
  {
   "cell_type": "code",
   "execution_count": 6,
   "metadata": {},
   "outputs": [],
   "source": [
    "class HashTable:\n",
    "    def __init__(self, size):\n",
    "        self.size = size\n",
    "        self.limit = 0\n",
    "        self.keys = [None] * size\n",
    "        self.values = [None] * size\n",
    "    \n",
    "    def hash(self, value):\n",
    "        return value % self.size\n",
    "    \n",
    "    def get(self, key):\n",
    "        hash = self.hash(key)\n",
    "        while self.keys[hash] is not None and self.keys[hash] != hash:\n",
    "            hash = self.hash + 1\n",
    "            hash = hash % this.size\n",
    "        return self.values[hash]\n",
    "\n",
    "    def set(self, key, value):\n",
    "        if self.limit >= self.size: raise Exception('hashtable is full')\n",
    "        hash = self.hash(key)\n",
    "        while self.keys[hash] is not None:\n",
    "            hash = self.hash + 1\n",
    "            hash = hash % this.size\n",
    "        self.keys[hash] = key\n",
    "        self.values[hash] = value\n",
    "        self.limit += 1"
   ]
  },
  {
   "cell_type": "code",
   "execution_count": 12,
   "metadata": {},
   "outputs": [
    {
     "data": {
      "text/plain": [
       "'world'"
      ]
     },
     "execution_count": 12,
     "metadata": {},
     "output_type": "execute_result"
    }
   ],
   "source": [
    "hashtable = HashTable(11)\n",
    "hashtable.set(1, 'hello')\n",
    "hashtable.set(2, 'world')\n",
    "hashtable.get(2)"
   ]
  },
  {
   "cell_type": "code",
   "execution_count": null,
   "metadata": {},
   "outputs": [],
   "source": []
  }
 ],
 "metadata": {
  "kernelspec": {
   "display_name": "Python 3",
   "language": "python",
   "name": "python3"
  },
  "language_info": {
   "codemirror_mode": {
    "name": "ipython",
    "version": 3
   },
   "file_extension": ".py",
   "mimetype": "text/x-python",
   "name": "python",
   "nbconvert_exporter": "python",
   "pygments_lexer": "ipython3",
   "version": "3.7.4"
  }
 },
 "nbformat": 4,
 "nbformat_minor": 2
}
