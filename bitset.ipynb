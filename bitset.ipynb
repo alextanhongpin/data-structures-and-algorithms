{
 "cells": [
  {
   "cell_type": "code",
   "execution_count": 26,
   "metadata": {},
   "outputs": [],
   "source": [
    "numbers = [1, 2, 3, 3, 4, 5, 6, 6]"
   ]
  },
  {
   "cell_type": "code",
   "execution_count": null,
   "metadata": {},
   "outputs": [],
   "source": [
    "# Think of it as compression. "
   ]
  },
  {
   "cell_type": "code",
   "execution_count": 24,
   "metadata": {},
   "outputs": [],
   "source": [
    "class BitSet:\n",
    "    def __init__(self, n):\n",
    "        self.bitset = [0] * (n >> 5) # Divide by 32\n",
    "    def set(self, n):\n",
    "        self.bitset[n >> 5] |= (1 << n%32)\n",
    "    def get(self, n):\n",
    "        return self.bitset[n >> 5] & (1<<n%32) != 0"
   ]
  },
  {
   "cell_type": "code",
   "execution_count": 25,
   "metadata": {},
   "outputs": [
    {
     "name": "stdout",
     "output_type": "stream",
     "text": [
      "3\n",
      "6\n"
     ]
    }
   ],
   "source": [
    "# 4kb. each int has size of 4 bit. We have 32000/32 = 1000 * 4 bit = 4kb.\n",
    "bitset = BitSet(32000)\n",
    "for n in numbers:\n",
    "    if bitset.get(n):\n",
    "        print(n)\n",
    "    else:\n",
    "        bitset.set(n)"
   ]
  },
  {
   "cell_type": "code",
   "execution_count": null,
   "metadata": {},
   "outputs": [],
   "source": []
  }
 ],
 "metadata": {
  "kernelspec": {
   "display_name": "Python 3",
   "language": "python",
   "name": "python3"
  },
  "language_info": {
   "codemirror_mode": {
    "name": "ipython",
    "version": 3
   },
   "file_extension": ".py",
   "mimetype": "text/x-python",
   "name": "python",
   "nbconvert_exporter": "python",
   "pygments_lexer": "ipython3",
   "version": "3.7.3"
  }
 },
 "nbformat": 4,
 "nbformat_minor": 2
}
